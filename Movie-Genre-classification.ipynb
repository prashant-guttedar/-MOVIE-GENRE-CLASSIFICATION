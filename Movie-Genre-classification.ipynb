{
 "cells": [
  {
   "cell_type": "code",
   "execution_count": 7,
   "id": "e259658c-3388-4938-b108-cf7b767282f4",
   "metadata": {},
   "outputs": [
    {
     "name": "stderr",
     "output_type": "stream",
     "text": [
      "C:\\Users\\Niteen\\AppData\\Local\\Programs\\Python\\Python310\\lib\\site-packages\\sklearn\\linear_model\\_logistic.py:1256: FutureWarning: 'multi_class' was deprecated in version 1.5 and will be removed in 1.7. Use OneVsRestClassifier(LogisticRegression(..)) instead. Leave it to its default value to avoid this warning.\n",
      "  warnings.warn(\n"
     ]
    },
    {
     "name": "stdout",
     "output_type": "stream",
     "text": [
      "Validation Accuracy: 0.6484\n",
      "\n",
      "Classification Report:\n",
      "              precision    recall  f1-score   support\n",
      "\n",
      "      action       0.64      0.26      0.37       263\n",
      "      comedy       0.59      0.58      0.59      1489\n",
      " documentary       0.71      0.88      0.79      2619\n",
      "       drama       0.60      0.77      0.68      2723\n",
      "      family       0.92      0.08      0.14       157\n",
      "      horror       0.75      0.58      0.65       441\n",
      "  reality-tv       0.55      0.10      0.16       177\n",
      "       short       0.56      0.29      0.38      1015\n",
      "    thriller       0.63      0.11      0.19       318\n",
      "     western       0.96      0.71      0.82       206\n",
      "\n",
      "    accuracy                           0.65      9408\n",
      "   macro avg       0.69      0.44      0.48      9408\n",
      "weighted avg       0.65      0.65      0.62      9408\n",
      "\n"
     ]
    }
   ],
   "source": [
    "# Full working code for genre classification\n",
    "import pandas as pd\n",
    "from sklearn.model_selection import train_test_split\n",
    "from sklearn.feature_extraction.text import TfidfVectorizer\n",
    "from sklearn.linear_model import LogisticRegression\n",
    "from sklearn.metrics import classification_report, accuracy_score\n",
    "\n",
    "# --- Step 1: Load dataset safely ---\n",
    "train_path = r\"C:\\Users\\Niteen\\Downloads\\archive\\Genre Classification Dataset\\train_data.txt\"\n",
    "\n",
    "# Read file line by line to avoid CSV parsing issues\n",
    "with open(train_path, 'r', encoding='utf-8') as f:\n",
    "    lines = f.readlines()\n",
    "\n",
    "# Split each line by \" ::: \" into columns\n",
    "data = [line.strip().split(\" ::: \") for line in lines]\n",
    "\n",
    "# Convert to DataFrame\n",
    "train_df = pd.DataFrame(data, columns=['id', 'title', 'genre', 'plot'])\n",
    "\n",
    "# --- Step 2: Basic preprocessing ---\n",
    "# Remove rows with missing plot or genre\n",
    "train_df = train_df.dropna(subset=['plot', 'genre'])\n",
    "\n",
    "# Optional: keep only top genres to avoid rare-class issues\n",
    "top_genres = train_df['genre'].value_counts().nlargest(10).index\n",
    "train_df = train_df[train_df['genre'].isin(top_genres)]\n",
    "\n",
    "# --- Step 3: Split into train and validation sets ---\n",
    "X = train_df['plot']\n",
    "y = train_df['genre']\n",
    "X_train, X_val, y_train, y_val = train_test_split(X, y, test_size=0.2, random_state=42, stratify=y)\n",
    "\n",
    "# --- Step 4: Vectorize text ---\n",
    "vectorizer = TfidfVectorizer(max_features=5000, stop_words='english')\n",
    "X_train_vec = vectorizer.fit_transform(X_train)\n",
    "X_val_vec = vectorizer.transform(X_val)\n",
    "\n",
    "# --- Step 5: Train classifier ---\n",
    "clf = LogisticRegression(max_iter=1000, multi_class='ovr')\n",
    "clf.fit(X_train_vec, y_train)\n",
    "\n",
    "# --- Step 6: Evaluate model ---\n",
    "y_pred = clf.predict(X_val_vec)\n",
    "accuracy = accuracy_score(y_val, y_pred)\n",
    "print(f\"Validation Accuracy: {accuracy:.4f}\\n\")\n",
    "print(\"Classification Report:\")\n",
    "print(classification_report(y_val, y_pred, zero_division=0))\n"
   ]
  },
  {
   "cell_type": "code",
   "execution_count": null,
   "id": "bc6d7a69-4a43-4bf8-87a8-d775da0b8620",
   "metadata": {},
   "outputs": [],
   "source": []
  },
  {
   "cell_type": "code",
   "execution_count": null,
   "id": "ecba8dc2-3e5f-4078-81d3-775e05e5c953",
   "metadata": {},
   "outputs": [],
   "source": []
  }
 ],
 "metadata": {
  "kernelspec": {
   "display_name": "Python 3 (ipykernel)",
   "language": "python",
   "name": "python3"
  },
  "language_info": {
   "codemirror_mode": {
    "name": "ipython",
    "version": 3
   },
   "file_extension": ".py",
   "mimetype": "text/x-python",
   "name": "python",
   "nbconvert_exporter": "python",
   "pygments_lexer": "ipython3",
   "version": "3.10.0"
  }
 },
 "nbformat": 4,
 "nbformat_minor": 5
}
